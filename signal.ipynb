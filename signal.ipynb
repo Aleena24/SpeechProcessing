{
  "nbformat": 4,
  "nbformat_minor": 0,
  "metadata": {
    "colab": {
      "provenance": [],
      "include_colab_link": true
    },
    "kernelspec": {
      "name": "python3",
      "display_name": "Python 3"
    },
    "language_info": {
      "name": "python"
    }
  },
  "cells": [
    {
      "cell_type": "markdown",
      "metadata": {
        "id": "view-in-github",
        "colab_type": "text"
      },
      "source": [
        "<a href=\"https://colab.research.google.com/github/Aleena24/SpeechProcessing/blob/main/signal.ipynb\" target=\"_parent\"><img src=\"https://colab.research.google.com/assets/colab-badge.svg\" alt=\"Open In Colab\"/></a>"
      ]
    },
    {
      "cell_type": "code",
      "source": [
        "import speech_recognition as sr"
      ],
      "metadata": {
        "id": "kRJfwhbiSF9h"
      },
      "execution_count": null,
      "outputs": []
    },
    {
      "cell_type": "code",
      "source": [
        "def recognize_speech_from_audio_file(file_path):\n",
        "    # Initialize recognizer class (for recognizing speech)\n",
        "    recognizer = sr.Recognizer()\n",
        "\n",
        "    with sr.AudioFile(file_path) as source:\n",
        "        print(\"Processing audio file...\")\n",
        "        audio = recognizer.record(source)\n",
        "\n",
        "    try:\n",
        "        print(\"Recognizing...\")\n",
        "        # Convert the speech to text using Google Web Speech API\n",
        "        text = recognizer.recognize_google(audio)\n",
        "        print(f\"Speech recognized: \\\"{text}\\\"\")\n",
        "        print(\"Speech successfully converted to text!\")\n",
        "\n",
        "    except sr.UnknownValueError:\n",
        "        print(\"Speech recognition could not understand audio, please try a clearer audio file.\")\n",
        "    except sr.RequestError as e:\n",
        "        print(f\"Could not request results from the speech recognition service; {e}\")\n"
      ],
      "metadata": {
        "id": "nN1vQfUOSLss"
      },
      "execution_count": null,
      "outputs": []
    },
    {
      "cell_type": "code",
      "source": [
        "if __name__ == \"__main__\":\n",
        "        audio_file_path = input(\"Enter the path to your audio file: \")\n",
        "        recognize_speech_from_audio_file(audio_file_path)\n"
      ],
      "metadata": {
        "colab": {
          "base_uri": "https://localhost:8080/"
        },
        "id": "TZpaTw9SRrYg",
        "outputId": "44d5528b-9267-409d-f67f-7d7dac798b76"
      },
      "execution_count": null,
      "outputs": [
        {
          "output_type": "stream",
          "name": "stdout",
          "text": [
            "Enter the path to your audio file: /content/signal.wav\n",
            "Processing audio file...\n",
            "Recognizing...\n",
            "Speech recognized: \"I believe you are just talking nonsense\"\n",
            "Speech successfully converted to text!\n"
          ]
        }
      ]
    }
  ]
}